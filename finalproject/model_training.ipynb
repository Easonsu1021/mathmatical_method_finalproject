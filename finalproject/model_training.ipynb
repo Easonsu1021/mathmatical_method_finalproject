{
  "cells": [
    {
      "cell_type": "code",
      "execution_count": 1,
      "metadata": {
        "colab": {
          "base_uri": "https://localhost:8080/"
        },
        "id": "ALcTkNawm6s9",
        "outputId": "000dde0d-1509-454e-e0b5-e3c7d2f36db1"
      },
      "outputs": [
        {
          "name": "stdout",
          "output_type": "stream",
          "text": [
            "TF: 2.9.1, Keras: 2.9.0\n"
          ]
        }
      ],
      "source": [
        "import os\n",
        "import datetime\n",
        "import matplotlib.pyplot as plt\n",
        "import cv2\n",
        "import tensorflow as tf\n",
        "from tensorflow import keras\n",
        "from tensorflow.keras.preprocessing.image import ImageDataGenerator\n",
        "from tensorflow.keras.models import Sequential, Model\n",
        "from tensorflow.keras.layers import Dense, Dropout, Activation, Flatten, Conv2D, MaxPooling2D, Input, GlobalAveragePooling2D\n",
        "from tensorflow.keras.applications import MobileNetV2\n",
        "from tensorflow.keras import utils\n",
        "print('TF: {}, Keras: {}'.format(tf.__version__, keras.__version__))"
      ]
    },
    {
      "cell_type": "code",
      "execution_count": 12,
      "metadata": {
        "id": "5C0ZWfzOnzbr"
      },
      "outputs": [],
      "source": [
        "start_time = datetime.datetime.now()\n",
        "batch_size = 32\n",
        "epochs = 100\n",
        "num_classes = 5    #類別\n",
        "img_size = 224     #圖片size\n",
        "input_shape = (img_size, img_size, 3)  # we use grayscale, so only one channel\n",
        "train_data = 'Vegetable_Images/train'\n",
        "test_data  = 'Vegetable_Images/test'"
      ]
    },
    {
      "cell_type": "code",
      "execution_count": 13,
      "metadata": {
        "colab": {
          "base_uri": "https://localhost:8080/"
        },
        "id": "XRoKZpafn4PT",
        "outputId": "c209dd47-7708-4497-9984-1da4f0f83855"
      },
      "outputs": [
        {
          "name": "stdout",
          "output_type": "stream",
          "text": [
            "Found 6000 images belonging to 5 classes.\n",
            "Found 1000 images belonging to 5 classes.\n"
          ]
        }
      ],
      "source": [
        "# load data from directory\n",
        "datagen = ImageDataGenerator(rescale=1. / 255)\n",
        "gen_train = datagen.flow_from_directory(train_data,\n",
        "                                        target_size=(img_size, img_size), # resize image to target size\n",
        "                                        batch_size=batch_size,\n",
        "                                        color_mode=\"rgb\",  # grayscale or rgb\n",
        "                                        class_mode='categorical',  # only data, no labels\n",
        "                                        shuffle=True)  # keep data in same order as labels\n",
        "gen_test = datagen.flow_from_directory(test_data,\n",
        "                                       target_size=(img_size, img_size), # resize image to target size\n",
        "                                       batch_size=batch_size,\n",
        "                                       color_mode=\"rgb\",  # grayscale or rgb\n",
        "                                       class_mode='categorical',  # only data, no labels\n",
        "                                       shuffle=True)  # keep data in same order as labels"
      ]
    },
    {
      "cell_type": "code",
      "execution_count": 14,
      "metadata": {
        "colab": {
          "base_uri": "https://localhost:8080/"
        },
        "id": "z-vRJzH2n89T",
        "outputId": "1752356f-2827-4a07-a045-215376a99fc6"
      },
      "outputs": [
        {
          "name": "stdout",
          "output_type": "stream",
          "text": [
            "WARNING:tensorflow:`input_shape` is undefined or non-square, or `rows` is not in [96, 128, 160, 192, 224]. Weights for input shape (224, 224) will be loaded as the default.\n"
          ]
        }
      ],
      "source": [
        "input_tensor = Input(shape=input_shape)\n",
        "x = MobileNetV2(include_top=False, weights=\"imagenet\")(input_tensor)  # 下載並讀入pretrain model前半的特徵萃取層\n",
        "#x = MobileNetV2(include_top=False, weights=None)(input_tensor)  # 不讀入預訓練參數\n",
        "x = GlobalAveragePooling2D()(x)  # 以下開始重建負責分類的區塊\n",
        "x = Dense(1024, activation='relu')(x)\n",
        "x = Dense(1024, activation='relu')(x)\n",
        "x = Dense(512, activation='relu')(x)\n",
        "preds = Dense(num_classes, activation='softmax')(x)\n",
        "model = Model(inputs=[input_tensor], outputs=[preds])"
      ]
    },
    {
      "cell_type": "code",
      "execution_count": 15,
      "metadata": {
        "id": "XahPtHbZoA-U"
      },
      "outputs": [],
      "source": [
        "opt = keras.optimizers.SGD(learning_rate=0.01, momentum=0.8)\n",
        "model.compile(loss=keras.losses.CategoricalCrossentropy(), optimizer=opt, metrics=['accuracy'])"
      ]
    },
    {
      "cell_type": "code",
      "execution_count": 16,
      "metadata": {
        "colab": {
          "base_uri": "https://localhost:8080/"
        },
        "id": "cWVkdnKXoFOQ",
        "outputId": "fd3b2d68-3f2b-43c7-bb4f-15a63bf5d505"
      },
      "outputs": [
        {
          "name": "stdout",
          "output_type": "stream",
          "text": [
            "Epoch 1/100\n",
            "187/187 [==============================] - 108s 502ms/step - loss: 0.0804 - accuracy: 0.9773 - val_loss: 0.2912 - val_accuracy: 0.8890\n",
            "Epoch 2/100\n",
            "187/187 [==============================] - 91s 486ms/step - loss: 0.0059 - accuracy: 0.9983 - val_loss: 0.6877 - val_accuracy: 0.7960\n",
            "Epoch 3/100\n",
            "187/187 [==============================] - 92s 488ms/step - loss: 0.0053 - accuracy: 0.9987 - val_loss: 0.0124 - val_accuracy: 0.9950\n",
            "Epoch 4/100\n",
            "187/187 [==============================] - 91s 485ms/step - loss: 0.0026 - accuracy: 0.9993 - val_loss: 0.1070 - val_accuracy: 0.9580\n",
            "Epoch 5/100\n",
            "187/187 [==============================] - 91s 486ms/step - loss: 0.0024 - accuracy: 0.9995 - val_loss: 0.0258 - val_accuracy: 0.9900\n",
            "Epoch 6/100\n",
            "187/187 [==============================] - 91s 486ms/step - loss: 5.1342e-04 - accuracy: 1.0000 - val_loss: 0.0108 - val_accuracy: 0.9950\n",
            "Epoch 7/100\n",
            "187/187 [==============================] - 91s 485ms/step - loss: 4.6244e-04 - accuracy: 0.9998 - val_loss: 9.7700e-04 - val_accuracy: 1.0000\n",
            "Epoch 8/100\n",
            "187/187 [==============================] - 91s 486ms/step - loss: 0.0017 - accuracy: 0.9995 - val_loss: 3.5240e-04 - val_accuracy: 1.0000\n",
            "Epoch 9/100\n",
            "187/187 [==============================] - 92s 488ms/step - loss: 0.0022 - accuracy: 0.9992 - val_loss: 2.9224e-04 - val_accuracy: 1.0000\n",
            "Epoch 10/100\n",
            "187/187 [==============================] - 91s 484ms/step - loss: 0.0017 - accuracy: 0.9995 - val_loss: 0.0012 - val_accuracy: 1.0000\n",
            "Epoch 11/100\n",
            "187/187 [==============================] - 92s 488ms/step - loss: 3.0860e-04 - accuracy: 1.0000 - val_loss: 3.0678e-04 - val_accuracy: 1.0000\n",
            "Epoch 12/100\n",
            "187/187 [==============================] - 91s 485ms/step - loss: 1.7312e-04 - accuracy: 1.0000 - val_loss: 7.7790e-05 - val_accuracy: 1.0000\n",
            "Epoch 13/100\n",
            "187/187 [==============================] - 91s 487ms/step - loss: 0.0024 - accuracy: 0.9988 - val_loss: 0.1924 - val_accuracy: 0.9460\n",
            "Epoch 14/100\n",
            "187/187 [==============================] - 91s 483ms/step - loss: 0.0099 - accuracy: 0.9975 - val_loss: 0.4074 - val_accuracy: 0.8790\n",
            "Epoch 15/100\n",
            "187/187 [==============================] - 91s 485ms/step - loss: 0.0014 - accuracy: 0.9997 - val_loss: 0.0200 - val_accuracy: 0.9950\n",
            "Epoch 16/100\n",
            "187/187 [==============================] - 90s 480ms/step - loss: 2.4058e-04 - accuracy: 1.0000 - val_loss: 0.0048 - val_accuracy: 0.9980\n",
            "Epoch 17/100\n",
            "187/187 [==============================] - 91s 485ms/step - loss: 7.1451e-04 - accuracy: 1.0000 - val_loss: 0.0031 - val_accuracy: 0.9990\n",
            "Epoch 18/100\n",
            "187/187 [==============================] - 91s 485ms/step - loss: 7.2781e-04 - accuracy: 0.9998 - val_loss: 1.4902e-04 - val_accuracy: 1.0000\n",
            "Epoch 19/100\n",
            "187/187 [==============================] - 91s 484ms/step - loss: 0.0019 - accuracy: 0.9995 - val_loss: 1.0911e-04 - val_accuracy: 1.0000\n",
            "Epoch 20/100\n",
            "187/187 [==============================] - 91s 486ms/step - loss: 0.0032 - accuracy: 0.9988 - val_loss: 0.0011 - val_accuracy: 1.0000\n",
            "Epoch 21/100\n",
            "187/187 [==============================] - 91s 485ms/step - loss: 0.0021 - accuracy: 0.9995 - val_loss: 3.1287e-04 - val_accuracy: 1.0000\n",
            "Epoch 22/100\n",
            "187/187 [==============================] - 91s 483ms/step - loss: 5.9157e-04 - accuracy: 0.9998 - val_loss: 1.4836e-04 - val_accuracy: 1.0000\n",
            "Epoch 23/100\n",
            "187/187 [==============================] - 91s 485ms/step - loss: 0.0011 - accuracy: 0.9995 - val_loss: 9.3017e-05 - val_accuracy: 1.0000\n",
            "Epoch 24/100\n",
            "187/187 [==============================] - 92s 488ms/step - loss: 5.6285e-04 - accuracy: 0.9998 - val_loss: 3.2867e-05 - val_accuracy: 1.0000\n",
            "Epoch 25/100\n",
            "187/187 [==============================] - 91s 485ms/step - loss: 1.6329e-04 - accuracy: 1.0000 - val_loss: 1.1281e-05 - val_accuracy: 1.0000\n",
            "Epoch 26/100\n",
            "187/187 [==============================] - 91s 487ms/step - loss: 7.6073e-05 - accuracy: 1.0000 - val_loss: 6.5141e-06 - val_accuracy: 1.0000\n",
            "Epoch 27/100\n",
            "187/187 [==============================] - 91s 486ms/step - loss: 7.1515e-05 - accuracy: 1.0000 - val_loss: 3.9983e-06 - val_accuracy: 1.0000\n",
            "Epoch 28/100\n",
            "187/187 [==============================] - 91s 486ms/step - loss: 8.3439e-05 - accuracy: 1.0000 - val_loss: 2.9054e-06 - val_accuracy: 1.0000\n",
            "Epoch 29/100\n",
            "187/187 [==============================] - 92s 489ms/step - loss: 2.1487e-04 - accuracy: 1.0000 - val_loss: 4.4577e-06 - val_accuracy: 1.0000\n",
            "Epoch 30/100\n",
            "187/187 [==============================] - 92s 489ms/step - loss: 2.7677e-05 - accuracy: 1.0000 - val_loss: 3.6086e-06 - val_accuracy: 1.0000\n",
            "Epoch 31/100\n",
            "187/187 [==============================] - 91s 484ms/step - loss: 7.5018e-05 - accuracy: 1.0000 - val_loss: 2.2484e-06 - val_accuracy: 1.0000\n",
            "Epoch 32/100\n",
            "187/187 [==============================] - 91s 483ms/step - loss: 9.1104e-05 - accuracy: 1.0000 - val_loss: 2.0332e-06 - val_accuracy: 1.0000\n",
            "Epoch 33/100\n",
            "187/187 [==============================] - 90s 482ms/step - loss: 0.0027 - accuracy: 0.9990 - val_loss: 0.0046 - val_accuracy: 0.9990\n",
            "Epoch 34/100\n",
            "187/187 [==============================] - 91s 484ms/step - loss: 4.5712e-04 - accuracy: 0.9998 - val_loss: 0.0133 - val_accuracy: 0.9960\n",
            "Epoch 35/100\n",
            "187/187 [==============================] - 91s 483ms/step - loss: 5.0700e-04 - accuracy: 0.9998 - val_loss: 8.5555e-05 - val_accuracy: 1.0000\n",
            "Epoch 36/100\n",
            "187/187 [==============================] - 91s 483ms/step - loss: 6.0919e-04 - accuracy: 0.9998 - val_loss: 1.3927e-04 - val_accuracy: 1.0000\n",
            "Epoch 37/100\n",
            "187/187 [==============================] - 91s 485ms/step - loss: 0.0031 - accuracy: 0.9985 - val_loss: 0.0117 - val_accuracy: 0.9960\n",
            "Epoch 38/100\n",
            "187/187 [==============================] - 91s 485ms/step - loss: 0.0013 - accuracy: 0.9997 - val_loss: 0.0243 - val_accuracy: 0.9930\n",
            "Epoch 39/100\n",
            "187/187 [==============================] - 91s 483ms/step - loss: 4.1988e-04 - accuracy: 1.0000 - val_loss: 0.0030 - val_accuracy: 0.9980\n",
            "Epoch 40/100\n",
            "187/187 [==============================] - 91s 485ms/step - loss: 1.3200e-04 - accuracy: 1.0000 - val_loss: 3.1745e-04 - val_accuracy: 1.0000\n",
            "Epoch 41/100\n",
            "187/187 [==============================] - 91s 486ms/step - loss: 6.0559e-05 - accuracy: 1.0000 - val_loss: 2.4590e-05 - val_accuracy: 1.0000\n",
            "Epoch 42/100\n",
            "187/187 [==============================] - 91s 485ms/step - loss: 0.0037 - accuracy: 0.9990 - val_loss: 0.0599 - val_accuracy: 0.9850\n",
            "Epoch 43/100\n",
            "187/187 [==============================] - 91s 483ms/step - loss: 0.0011 - accuracy: 0.9995 - val_loss: 0.0012 - val_accuracy: 1.0000\n",
            "Epoch 44/100\n",
            "187/187 [==============================] - 91s 483ms/step - loss: 7.5342e-04 - accuracy: 0.9997 - val_loss: 4.8905e-04 - val_accuracy: 1.0000\n",
            "Epoch 45/100\n",
            "187/187 [==============================] - 92s 488ms/step - loss: 3.3725e-04 - accuracy: 0.9998 - val_loss: 1.1946e-04 - val_accuracy: 1.0000\n",
            "Epoch 46/100\n",
            "187/187 [==============================] - 90s 481ms/step - loss: 5.0098e-04 - accuracy: 0.9998 - val_loss: 1.5554e-05 - val_accuracy: 1.0000\n",
            "Epoch 47/100\n",
            "187/187 [==============================] - 91s 484ms/step - loss: 6.0470e-04 - accuracy: 0.9998 - val_loss: 3.0555e-05 - val_accuracy: 1.0000\n",
            "Epoch 48/100\n",
            "187/187 [==============================] - 91s 483ms/step - loss: 0.0012 - accuracy: 0.9997 - val_loss: 4.1255e-05 - val_accuracy: 1.0000\n",
            "Epoch 49/100\n",
            "187/187 [==============================] - 91s 484ms/step - loss: 3.2262e-04 - accuracy: 0.9998 - val_loss: 1.3705e-05 - val_accuracy: 1.0000\n",
            "Epoch 50/100\n",
            "187/187 [==============================] - 91s 482ms/step - loss: 0.0014 - accuracy: 0.9995 - val_loss: 0.0122 - val_accuracy: 0.9970\n",
            "Epoch 51/100\n",
            "187/187 [==============================] - 91s 486ms/step - loss: 0.0013 - accuracy: 0.9995 - val_loss: 6.6073e-04 - val_accuracy: 1.0000\n",
            "Epoch 52/100\n",
            "187/187 [==============================] - 92s 487ms/step - loss: 0.0021 - accuracy: 0.9992 - val_loss: 0.0011 - val_accuracy: 0.9990\n",
            "Epoch 53/100\n",
            "187/187 [==============================] - 92s 489ms/step - loss: 0.0012 - accuracy: 0.9995 - val_loss: 0.0019 - val_accuracy: 0.9990\n",
            "Epoch 54/100\n",
            "187/187 [==============================] - 91s 483ms/step - loss: 0.0011 - accuracy: 0.9995 - val_loss: 1.4355e-04 - val_accuracy: 1.0000\n",
            "Epoch 55/100\n",
            "187/187 [==============================] - 91s 483ms/step - loss: 2.9738e-04 - accuracy: 0.9998 - val_loss: 6.9694e-05 - val_accuracy: 1.0000\n",
            "Epoch 56/100\n",
            "187/187 [==============================] - 91s 484ms/step - loss: 1.0526e-04 - accuracy: 1.0000 - val_loss: 3.4553e-06 - val_accuracy: 1.0000\n",
            "Epoch 57/100\n",
            "187/187 [==============================] - 90s 481ms/step - loss: 7.9557e-05 - accuracy: 1.0000 - val_loss: 2.3665e-06 - val_accuracy: 1.0000\n",
            "Epoch 58/100\n",
            "187/187 [==============================] - 91s 487ms/step - loss: 2.8722e-05 - accuracy: 1.0000 - val_loss: 2.1765e-06 - val_accuracy: 1.0000\n",
            "Epoch 59/100\n",
            "187/187 [==============================] - 92s 491ms/step - loss: 6.5463e-04 - accuracy: 0.9998 - val_loss: 0.0043 - val_accuracy: 0.9990\n",
            "Epoch 60/100\n",
            "187/187 [==============================] - 91s 483ms/step - loss: 0.0014 - accuracy: 0.9997 - val_loss: 7.2198e-05 - val_accuracy: 1.0000\n",
            "Epoch 61/100\n",
            "187/187 [==============================] - 91s 485ms/step - loss: 2.2617e-04 - accuracy: 1.0000 - val_loss: 3.5190e-06 - val_accuracy: 1.0000\n",
            "Epoch 62/100\n",
            "187/187 [==============================] - 90s 481ms/step - loss: 0.0026 - accuracy: 0.9992 - val_loss: 0.0027 - val_accuracy: 0.9990\n",
            "Epoch 63/100\n",
            "187/187 [==============================] - 91s 483ms/step - loss: 1.8515e-04 - accuracy: 1.0000 - val_loss: 9.4321e-05 - val_accuracy: 1.0000\n",
            "Epoch 64/100\n",
            "187/187 [==============================] - 91s 483ms/step - loss: 0.0015 - accuracy: 0.9993 - val_loss: 3.3733e-05 - val_accuracy: 1.0000\n",
            "Epoch 65/100\n",
            "187/187 [==============================] - 91s 486ms/step - loss: 5.9027e-04 - accuracy: 0.9998 - val_loss: 1.1201e-05 - val_accuracy: 1.0000\n",
            "Epoch 66/100\n",
            "187/187 [==============================] - 91s 482ms/step - loss: 2.6933e-04 - accuracy: 1.0000 - val_loss: 5.7040e-06 - val_accuracy: 1.0000\n",
            "Epoch 67/100\n",
            "187/187 [==============================] - 91s 483ms/step - loss: 6.2525e-05 - accuracy: 1.0000 - val_loss: 2.5311e-06 - val_accuracy: 1.0000\n",
            "Epoch 68/100\n",
            "187/187 [==============================] - 91s 485ms/step - loss: 4.3159e-05 - accuracy: 1.0000 - val_loss: 2.1579e-06 - val_accuracy: 1.0000\n",
            "Epoch 69/100\n",
            "187/187 [==============================] - 91s 482ms/step - loss: 4.1216e-05 - accuracy: 1.0000 - val_loss: 1.6604e-06 - val_accuracy: 1.0000\n",
            "Epoch 70/100\n",
            "187/187 [==============================] - 90s 478ms/step - loss: 3.6928e-05 - accuracy: 1.0000 - val_loss: 1.4290e-06 - val_accuracy: 1.0000\n",
            "Epoch 71/100\n",
            "187/187 [==============================] - 91s 483ms/step - loss: 2.8001e-05 - accuracy: 1.0000 - val_loss: 1.1128e-06 - val_accuracy: 1.0000\n",
            "Epoch 72/100\n",
            "187/187 [==============================] - 91s 486ms/step - loss: 5.2170e-04 - accuracy: 0.9997 - val_loss: 9.6367e-06 - val_accuracy: 1.0000\n",
            "Epoch 73/100\n",
            "187/187 [==============================] - 92s 487ms/step - loss: 4.2969e-04 - accuracy: 0.9998 - val_loss: 3.2538e-05 - val_accuracy: 1.0000\n",
            "Epoch 74/100\n",
            "187/187 [==============================] - 90s 481ms/step - loss: 8.1763e-05 - accuracy: 1.0000 - val_loss: 5.3158e-06 - val_accuracy: 1.0000\n",
            "Epoch 75/100\n",
            "187/187 [==============================] - 91s 486ms/step - loss: 3.3194e-05 - accuracy: 1.0000 - val_loss: 2.2323e-06 - val_accuracy: 1.0000\n",
            "Epoch 76/100\n",
            "187/187 [==============================] - 91s 484ms/step - loss: 0.0011 - accuracy: 0.9995 - val_loss: 8.7117e-06 - val_accuracy: 1.0000\n",
            "Epoch 77/100\n",
            "187/187 [==============================] - 92s 490ms/step - loss: 1.0396e-04 - accuracy: 1.0000 - val_loss: 1.4510e-05 - val_accuracy: 1.0000\n",
            "Epoch 78/100\n",
            "187/187 [==============================] - 91s 485ms/step - loss: 5.8423e-05 - accuracy: 1.0000 - val_loss: 4.5251e-06 - val_accuracy: 1.0000\n",
            "Epoch 79/100\n",
            "187/187 [==============================] - 91s 483ms/step - loss: 1.8416e-04 - accuracy: 1.0000 - val_loss: 6.7768e-07 - val_accuracy: 1.0000\n",
            "Epoch 80/100\n",
            "187/187 [==============================] - 91s 483ms/step - loss: 3.0343e-05 - accuracy: 1.0000 - val_loss: 5.8613e-07 - val_accuracy: 1.0000\n",
            "Epoch 81/100\n",
            "187/187 [==============================] - 91s 487ms/step - loss: 1.2008e-04 - accuracy: 1.0000 - val_loss: 6.5622e-07 - val_accuracy: 1.0000\n",
            "Epoch 82/100\n",
            "187/187 [==============================] - 91s 486ms/step - loss: 9.8396e-06 - accuracy: 1.0000 - val_loss: 6.2392e-07 - val_accuracy: 1.0000\n",
            "Epoch 83/100\n",
            "187/187 [==============================] - 91s 484ms/step - loss: 2.2911e-05 - accuracy: 1.0000 - val_loss: 5.6456e-07 - val_accuracy: 1.0000\n",
            "Epoch 84/100\n",
            "187/187 [==============================] - 91s 486ms/step - loss: 2.0368e-05 - accuracy: 1.0000 - val_loss: 5.2558e-07 - val_accuracy: 1.0000\n",
            "Epoch 85/100\n",
            "187/187 [==============================] - 91s 483ms/step - loss: 1.3862e-05 - accuracy: 1.0000 - val_loss: 5.1998e-07 - val_accuracy: 1.0000\n",
            "Epoch 86/100\n",
            "187/187 [==============================] - 91s 484ms/step - loss: 9.8679e-06 - accuracy: 1.0000 - val_loss: 5.2224e-07 - val_accuracy: 1.0000\n",
            "Epoch 87/100\n",
            "187/187 [==============================] - 91s 484ms/step - loss: 3.1867e-05 - accuracy: 1.0000 - val_loss: 4.9363e-07 - val_accuracy: 1.0000\n",
            "Epoch 88/100\n",
            "187/187 [==============================] - 91s 483ms/step - loss: 6.1376e-06 - accuracy: 1.0000 - val_loss: 4.9089e-07 - val_accuracy: 1.0000\n",
            "Epoch 89/100\n",
            "187/187 [==============================] - 91s 485ms/step - loss: 1.3495e-04 - accuracy: 1.0000 - val_loss: 7.1114e-07 - val_accuracy: 1.0000\n",
            "Epoch 90/100\n",
            "187/187 [==============================] - 91s 485ms/step - loss: 1.4486e-04 - accuracy: 0.9998 - val_loss: 1.1569e-06 - val_accuracy: 1.0000\n",
            "Epoch 91/100\n",
            "187/187 [==============================] - 91s 485ms/step - loss: 8.2775e-04 - accuracy: 0.9997 - val_loss: 1.8774e-05 - val_accuracy: 1.0000\n",
            "Epoch 92/100\n",
            "187/187 [==============================] - 92s 488ms/step - loss: 3.3915e-05 - accuracy: 1.0000 - val_loss: 5.2448e-06 - val_accuracy: 1.0000\n",
            "Epoch 93/100\n",
            "187/187 [==============================] - 90s 481ms/step - loss: 2.7677e-05 - accuracy: 1.0000 - val_loss: 4.9931e-06 - val_accuracy: 1.0000\n",
            "Epoch 94/100\n",
            "187/187 [==============================] - 90s 480ms/step - loss: 6.7802e-04 - accuracy: 0.9997 - val_loss: 2.2987e-05 - val_accuracy: 1.0000\n",
            "Epoch 95/100\n",
            "187/187 [==============================] - 91s 484ms/step - loss: 2.4870e-05 - accuracy: 1.0000 - val_loss: 1.2017e-05 - val_accuracy: 1.0000\n",
            "Epoch 96/100\n",
            "187/187 [==============================] - 90s 481ms/step - loss: 3.5619e-05 - accuracy: 1.0000 - val_loss: 3.4277e-06 - val_accuracy: 1.0000\n",
            "Epoch 97/100\n",
            "187/187 [==============================] - 91s 484ms/step - loss: 2.0122e-05 - accuracy: 1.0000 - val_loss: 1.4269e-06 - val_accuracy: 1.0000\n",
            "Epoch 98/100\n",
            "187/187 [==============================] - 91s 483ms/step - loss: 3.3936e-05 - accuracy: 1.0000 - val_loss: 9.1003e-07 - val_accuracy: 1.0000\n",
            "Epoch 99/100\n",
            "187/187 [==============================] - 91s 484ms/step - loss: 1.6590e-04 - accuracy: 1.0000 - val_loss: 1.2534e-06 - val_accuracy: 1.0000\n",
            "Epoch 100/100\n",
            "187/187 [==============================] - 91s 483ms/step - loss: 7.2962e-04 - accuracy: 0.9998 - val_loss: 6.3277e-06 - val_accuracy: 1.0000\n"
          ]
        }
      ],
      "source": [
        "history = model.fit(gen_train,\n",
        "          epochs=epochs,\n",
        "          validation_data=gen_test,\n",
        "          steps_per_epoch=gen_train.samples/gen_train.batch_size,\n",
        "          validation_steps=gen_test.samples/gen_test.batch_size,\n",
        "          verbose=1)"
      ]
    },
    {
      "cell_type": "code",
      "execution_count": 17,
      "metadata": {
        "colab": {
          "base_uri": "https://localhost:8080/",
          "height": 293
        },
        "id": "MrVML-tioIUc",
        "outputId": "3bc70167-c8bf-4460-bc33-8891df08f0f8"
      },
      "outputs": [
        {
          "data": {
            "image/png": "[encoded data removed]",
            "text/plain": [
              "<Figure size 432x288 with 2 Axes>"
            ]
          },
          "metadata": {
            "needs_background": "light"
          },
          "output_type": "display_data"
        }
      ],
      "source": [
        "#plot accuracy\n",
        "plt.figure()\n",
        "plt.subplot(2,1,1)\n",
        "plt.plot(history.history['accuracy'])\n",
        "plt.plot(history.history['val_accuracy'])\n",
        "plt.title('Model accuracy', fontsize=10)\n",
        "plt.ylabel('accuracy')\n",
        "plt.legend(['Train', 'Validation'], loc='upper left')\n",
        "#plot loss function\n",
        "plt.subplot(2,1,2)\n",
        "plt.plot(history.history['loss'])\n",
        "plt.plot(history.history['val_loss'])\n",
        "plt.title('Model loss', fontsize=10)\n",
        "plt.ylabel('Loss')\n",
        "plt.xlabel('Epoch')\n",
        "plt.legend(['Train', 'Validation'], loc='upper left')\n",
        "plt.show()"
      ]
    },
    {
      "cell_type": "code",
      "execution_count": 18,
      "metadata": {
        "colab": {
          "base_uri": "https://localhost:8080/"
        },
        "id": "sNr0ZTamolCG",
        "outputId": "7c343323-1e6f-4f16-9536-4ac9c4e029d4"
      },
      "outputs": [
        {
          "name": "stdout",
          "output_type": "stream",
          "text": [
            "Program done. Cost 9140 seconds.\n"
          ]
        },
        {
          "data": {
            "text/plain": [
              "\"# save as .tflite file (for tf-Lite)\\nconverter = tf.lite.TFLiteConverter.from_keras_model(model)\\nconverter.optimizations = [tf.lite.Optimize.OPTIMIZE_FOR_LATENCY]\\nconverter.target_spec.supported_types = [tf.float16]\\ntflite_model = converter.convert()\\nwith open('C:/Users/user/Desktop/Vegetable_Images_mobilenetv2.tflite', 'wb') as f:\\n    f.write(tflite_model)\""
            ]
          },
          "execution_count": 18,
          "metadata": {},
          "output_type": "execute_result"
        }
      ],
      "source": [
        "end_time = datetime.datetime.now()\n",
        "print('Program done. Cost {} seconds.'.format((end_time-start_time).seconds))\n",
        "\n",
        "# save as .h5 file (for tf-Keras)\n",
        "model.save('C:/Users/user/Desktop/E94086149期末專題/Vegetable_Images_mobilenetv2_32.h5')\n",
        "\n",
        "'''# save as .tflite file (for tf-Lite)\n",
        "converter = tf.lite.TFLiteConverter.from_keras_model(model)\n",
        "converter.optimizations = [tf.lite.Optimize.OPTIMIZE_FOR_LATENCY]\n",
        "converter.target_spec.supported_types = [tf.float16]\n",
        "tflite_model = converter.convert()\n",
        "with open('C:/Users/user/Desktop/Vegetable_Images_mobilenetv2.tflite', 'wb') as f:\n",
        "    f.write(tflite_model)'''"
      ]
    }
  ],
  "metadata": {
    "accelerator": "GPU",
    "colab": {
      "collapsed_sections": [],
      "name": "菜辨識模型.ipynb",
      "provenance": []
    },
    "interpreter": {
      "hash": "9d666d82339d4ec6598db6520b8ef6e55f52b78af793bca546f20d1c79188d15"
    },
    "kernelspec": {
      "display_name": "Python 3.7.13 ('tensorflow')",
      "language": "python",
      "name": "python3"
    },
    "language_info": {
      "codemirror_mode": {
        "name": "ipython",
        "version": 3
      },
      "file_extension": ".py",
      "mimetype": "text/x-python",
      "name": "python",
      "nbconvert_exporter": "python",
      "pygments_lexer": "ipython3",
      "version": "3.7.13"
    }
  },
  "nbformat": 4,
  "nbformat_minor": 0
}
